{
  "nbformat": 4,
  "nbformat_minor": 0,
  "metadata": {
    "colab": {
      "provenance": [],
      "authorship_tag": "ABX9TyPCCP418ogNBfq4UzSxboWF",
      "include_colab_link": true
    },
    "kernelspec": {
      "name": "python3",
      "display_name": "Python 3"
    },
    "language_info": {
      "name": "python"
    }
  },
  "cells": [
    {
      "cell_type": "markdown",
      "metadata": {
        "id": "view-in-github",
        "colab_type": "text"
      },
      "source": [
        "<a href=\"https://colab.research.google.com/github/maaciekz/ROZNE2/blob/main/przyklady.ipynb\" target=\"_parent\"><img src=\"https://colab.research.google.com/assets/colab-badge.svg\" alt=\"Open In Colab\"/></a>"
      ]
    },
    {
      "cell_type": "code",
      "execution_count": null,
      "metadata": {
        "id": "w_x8FGtiBXMN"
      },
      "outputs": [],
      "source": [
        "def calculate_balance(balance, annualInterestRate, monthlyPaymentRate, month ):\n",
        "    monthly_rate = annualInterestRate / 12\n",
        "    minimum_payment = balance * monthlyPaymentRate\n",
        "    unpaid_balance = balance - minimum_payment\n",
        "    updated_balance = unpaid_balance + (unpaid_balance * monthly_rate)\n",
        "    if month == 12:\n",
        "      return updated_balance\n",
        "    else:\n",
        "      return calculate_balance(updated_balance, annualInterestRate, monthlyPaymentRate, month + 1 )"
      ]
    },
    {
      "cell_type": "code",
      "source": [
        "balance = 42\n",
        "annualInterestRate = 0.2\n",
        "monthlyPaymentRate = 0.04\n",
        "month = 1\n",
        "monthly_rate = annualInterestRate / 12\n",
        "updated_balance = balance\n",
        "while month <= 12:\n",
        "    minimum_payment = updated_balance * monthlyPaymentRate\n",
        "    unpaid_balance = updated_balance - minimum_payment\n",
        "    updated_balance = unpaid_balance + (unpaid_balance * monthly_rate)\n",
        "    month += 1\n",
        "print('Remaining balance:',  round(updated_balance ,2))"
      ],
      "metadata": {
        "colab": {
          "base_uri": "https://localhost:8080/"
        },
        "id": "pmTpZbxnNKLS",
        "outputId": "fd1c1e76-885b-48a5-81ac-67d8fce4ed3b"
      },
      "execution_count": null,
      "outputs": [
        {
          "output_type": "stream",
          "name": "stdout",
          "text": [
            "Remaining balance: 31.38\n"
          ]
        }
      ]
    },
    {
      "cell_type": "code",
      "source": [
        "print(calculate_balance(42, 0.2, 0.04, 1))"
      ],
      "metadata": {
        "colab": {
          "base_uri": "https://localhost:8080/"
        },
        "id": "kLjHebsWC8EI",
        "outputId": "def7b6ea-1116-4efd-98e8-30a65e92ca53"
      },
      "execution_count": null,
      "outputs": [
        {
          "output_type": "stream",
          "name": "stdout",
          "text": [
            "31.379578260339404\n"
          ]
        }
      ]
    },
    {
      "cell_type": "code",
      "source": [
        "\n",
        "a = 42 - ( )"
      ],
      "metadata": {
        "id": "lXZ_XXFnDWUg"
      },
      "execution_count": null,
      "outputs": []
    },
    {
      "cell_type": "code",
      "source": [],
      "metadata": {
        "id": "ft4byyRG10Sr"
      },
      "execution_count": null,
      "outputs": []
    },
    {
      "cell_type": "code",
      "source": [
        "def oddTuples(aTup):\n",
        "    '''\n",
        "    aTup: a tuple\n",
        "\n",
        "    returns: tuple, every other element of aTup.\n",
        "    '''\n",
        "    # Your Code Here\n",
        "    i = 0\n",
        "    newTup = []\n",
        "    for a in aTup:\n",
        "        if i % 2 == 0:\n",
        "           newTup.append(a)\n",
        "        i += 1\n",
        "    return tuple(newTup)\n"
      ],
      "metadata": {
        "id": "hStR0XakvZuP"
      },
      "execution_count": 9,
      "outputs": []
    },
    {
      "cell_type": "code",
      "source": [
        "listA = [1, 4, 3, 0]"
      ],
      "metadata": {
        "id": "y3ZGGuMc4pDV"
      },
      "execution_count": 12,
      "outputs": []
    },
    {
      "cell_type": "code",
      "source": [
        "listA.insert(0, 100)"
      ],
      "metadata": {
        "id": "BGp1HgyL4x0U"
      },
      "execution_count": 13,
      "outputs": []
    },
    {
      "cell_type": "code",
      "source": [
        "listA"
      ],
      "metadata": {
        "colab": {
          "base_uri": "https://localhost:8080/"
        },
        "id": "W_gkmRlc44RJ",
        "outputId": "5bbccde1-411d-432f-9464-bfea68b1fcb3"
      },
      "execution_count": 14,
      "outputs": [
        {
          "output_type": "execute_result",
          "data": {
            "text/plain": [
              "[100, 1, 4, 3, 0]"
            ]
          },
          "metadata": {},
          "execution_count": 14
        }
      ]
    },
    {
      "cell_type": "code",
      "source": [
        "listB = ['x', 'z', 't', 'q']\n",
        "listB.sort()\n"
      ],
      "metadata": {
        "id": "gNIwsL5E5e97"
      },
      "execution_count": 18,
      "outputs": []
    },
    {
      "cell_type": "code",
      "source": [
        "print(oddTuples(('I', 'am', 'a', 'test', 'tuple')))"
      ],
      "metadata": {
        "colab": {
          "base_uri": "https://localhost:8080/"
        },
        "id": "pADll2I8voX4",
        "outputId": "adca2b3c-7f0c-4584-e35f-293f5fc82b37"
      },
      "execution_count": 10,
      "outputs": [
        {
          "output_type": "stream",
          "name": "stdout",
          "text": [
            "('I', 'a', 'tuple')\n"
          ]
        }
      ]
    },
    {
      "cell_type": "code",
      "source": [
        "listA =[100, 1, 4, 7, 'x', 'z', 't', 'q', 4, 1, 6, 3, 4]\n",
        "listA.reverse()\n",
        "listA"
      ],
      "metadata": {
        "colab": {
          "base_uri": "https://localhost:8080/"
        },
        "id": "WCQBjoGNcdaJ",
        "outputId": "c8785b1b-6010-4d9d-e630-229653808820"
      },
      "execution_count": 3,
      "outputs": [
        {
          "output_type": "execute_result",
          "data": {
            "text/plain": [
              "[4, 3, 6, 1, 4, 'q', 't', 'z', 'x', 7, 4, 1, 100]"
            ]
          },
          "metadata": {},
          "execution_count": 3
        }
      ]
    },
    {
      "cell_type": "code",
      "source": [
        "aList = [0, 1, 2, 3, 4, 5]\n",
        "bList = aList\n",
        "aList[2] = 'hello'\n",
        "print(aList == bList)"
      ],
      "metadata": {
        "colab": {
          "base_uri": "https://localhost:8080/"
        },
        "id": "9t86KqrH11NQ",
        "outputId": "da28f287-c4b1-4296-cc58-94c7e8112916"
      },
      "execution_count": 4,
      "outputs": [
        {
          "output_type": "stream",
          "name": "stdout",
          "text": [
            "True\n"
          ]
        }
      ]
    },
    {
      "cell_type": "code",
      "source": [
        "aList is bList"
      ],
      "metadata": {
        "colab": {
          "base_uri": "https://localhost:8080/"
        },
        "id": "RmSfem242CRu",
        "outputId": "389e937c-1f76-46af-895c-44fe74c701a1"
      },
      "execution_count": 5,
      "outputs": [
        {
          "output_type": "execute_result",
          "data": {
            "text/plain": [
              "True"
            ]
          },
          "metadata": {},
          "execution_count": 5
        }
      ]
    },
    {
      "cell_type": "code",
      "source": [
        "bList"
      ],
      "metadata": {
        "colab": {
          "base_uri": "https://localhost:8080/"
        },
        "id": "9oB0odzU2Fs4",
        "outputId": "255e3237-1997-47c2-c603-667d02df81bd"
      },
      "execution_count": 7,
      "outputs": [
        {
          "output_type": "execute_result",
          "data": {
            "text/plain": [
              "[0, 1, 'hello', 3, 4, 5]"
            ]
          },
          "metadata": {},
          "execution_count": 7
        }
      ]
    },
    {
      "cell_type": "code",
      "source": [
        "cList = [6, 5, 4, 3, 2]\n",
        "dList = []\n",
        "for num in cList:\n",
        "        dList.append(num)\n",
        ""
      ],
      "metadata": {
        "id": "UeQQvVbU2Rdh"
      },
      "execution_count": 8,
      "outputs": []
    },
    {
      "cell_type": "code",
      "source": [
        "cList == dList"
      ],
      "metadata": {
        "colab": {
          "base_uri": "https://localhost:8080/"
        },
        "id": "miVI5W2d2aAC",
        "outputId": "20acc6b4-f26d-4992-b883-b1bd240003b6"
      },
      "execution_count": 9,
      "outputs": [
        {
          "output_type": "execute_result",
          "data": {
            "text/plain": [
              "True"
            ]
          },
          "metadata": {},
          "execution_count": 9
        }
      ]
    },
    {
      "cell_type": "code",
      "source": [
        "testList = [1, -4, 8, -9]\n",
        "def applyToEach(L, f):\n",
        "    for i in range(len(L)):\n",
        "        L[i] = f(L[i])\n",
        "def inc(a):\n",
        "    return a+1\n",
        "applyToEach(testList, inc)\n",
        "testList"
      ],
      "metadata": {
        "colab": {
          "base_uri": "https://localhost:8080/"
        },
        "id": "54lu1PIlELzD",
        "outputId": "7a9e6aa0-a69d-45d6-cde9-ee24613d5abb"
      },
      "execution_count": 3,
      "outputs": [
        {
          "output_type": "execute_result",
          "data": {
            "text/plain": [
              "[2, -3, 9, -8]"
            ]
          },
          "metadata": {},
          "execution_count": 3
        }
      ]
    },
    {
      "cell_type": "code",
      "source": [
        "animals = {'a': 'aardvark', 'b': 'baboon', 'c': 'coati'}\n",
        "\n",
        "animals['d'] = 'donkey'"
      ],
      "metadata": {
        "id": "VoDfb8GkToTf"
      },
      "execution_count": 1,
      "outputs": []
    },
    {
      "cell_type": "code",
      "source": [
        "animals"
      ],
      "metadata": {
        "colab": {
          "base_uri": "https://localhost:8080/"
        },
        "id": "7yPfu-tnTsT9",
        "outputId": "b46a6669-5f12-416c-a50d-eb32a7d9be6e"
      },
      "execution_count": 2,
      "outputs": [
        {
          "output_type": "execute_result",
          "data": {
            "text/plain": [
              "{'a': 'aardvark', 'b': 'baboon', 'c': 'coati', 'd': 'donkey'}"
            ]
          },
          "metadata": {},
          "execution_count": 2
        }
      ]
    }
  ]
}